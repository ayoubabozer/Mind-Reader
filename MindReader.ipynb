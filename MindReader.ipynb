{
 "cells": [
  {
   "cell_type": "markdown",
   "metadata": {},
   "source": [
    "# MindReader Game"
   ]
  },
  {
   "cell_type": "markdown",
   "metadata": {},
   "source": [
    "<b>MindReader</b> is a game againts a bot, you choose number <b>1</b> or <b>0</b>.\n",
    "The <font color=\"red\">bot tries to guess your number using basic machine learning</font>, if it's right it gets a point,otherwise you get a point.\n",
    "<p>The first to 50 points <font color=\"green\">wins</font></p>"
   ]
  },
  {
   "cell_type": "code",
   "execution_count": 1,
   "metadata": {},
   "outputs": [],
   "source": [
    "from ipywidgets import *\n",
    "from random import *\n",
    "import numpy as np"
   ]
  },
  {
   "cell_type": "code",
   "execution_count": 2,
   "metadata": {},
   "outputs": [
    {
     "data": {
      "application/vnd.jupyter.widget-view+json": {
       "model_id": "af02cda833744f1792d6d3e38d7d792d",
       "version_major": 2,
       "version_minor": 0
      },
      "text/plain": [
       "HBox(children=(Button(description='0', style=ButtonStyle()), Button(description='1', style=ButtonStyle())))"
      ]
     },
     "metadata": {},
     "output_type": "display_data"
    }
   ],
   "source": [
    "btn_zero = Button( description=\"0\" )\n",
    "btn_one = Button( description=\"1\" )\n",
    "btns = HBox( [btn_zero, btn_one])\n",
    "btns"
   ]
  },
  {
   "cell_type": "code",
   "execution_count": 3,
   "metadata": {},
   "outputs": [],
   "source": [
    "def click_zero(b):\n",
    "    update_game(0)\n",
    "btn_zero.on_click( click_zero )"
   ]
  },
  {
   "cell_type": "code",
   "execution_count": 4,
   "metadata": {},
   "outputs": [],
   "source": [
    "def click_one(b):\n",
    "    update_game(1)\n",
    "btn_one.on_click( click_one )"
   ]
  },
  {
   "cell_type": "code",
   "execution_count": 10,
   "metadata": {},
   "outputs": [
    {
     "data": {
      "application/vnd.jupyter.widget-view+json": {
       "model_id": "697a89bcbfdf499c8ff5551761275266",
       "version_major": 2,
       "version_minor": 0
      },
      "text/plain": [
       "VBox(children=(IntProgress(value=0, bar_style='success', description='You:', max=50), IntProgress(value=0, bar…"
      ]
     },
     "metadata": {},
     "output_type": "display_data"
    }
   ],
   "source": [
    "user_score = IntProgress( value=0, min=0, max=50, description=\"You:\", bar_style=\"success\")\n",
    "bot_score = IntProgress( value=0, min=0, max=50, description=\"Bot:\", bar_style=\"danger\")\n",
    "score_board = VBox( [user_score, bot_score] )\n",
    "score_board"
   ]
  },
  {
   "cell_type": "code",
   "execution_count": 11,
   "metadata": {},
   "outputs": [],
   "source": [
    "final_msg = HTML(\"<h1 style='color:green'>You Win!</h1>\")"
   ]
  },
  {
   "cell_type": "code",
   "execution_count": 12,
   "metadata": {},
   "outputs": [],
   "source": [
    "game_box = VBox( [HBox( [score_board, final_msg] ), btns] )"
   ]
  },
  {
   "cell_type": "code",
   "execution_count": 13,
   "metadata": {
    "scrolled": true
   },
   "outputs": [
    {
     "data": {
      "application/vnd.jupyter.widget-view+json": {
       "model_id": "c2e4d971b4044d9c86182727fe93aac6",
       "version_major": 2,
       "version_minor": 0
      },
      "text/plain": [
       "VBox(children=(HBox(children=(VBox(children=(IntProgress(value=0, bar_style='success', description='You:', max…"
      ]
     },
     "metadata": {},
     "output_type": "display_data"
    }
   ],
   "source": [
    "game_box"
   ]
  },
  {
   "cell_type": "code",
   "execution_count": 18,
   "metadata": {},
   "outputs": [],
   "source": [
    "user_history = []"
   ]
  },
  {
   "cell_type": "code",
   "execution_count": 20,
   "metadata": {},
   "outputs": [],
   "source": [
    "final_msg.layout.visibility = \"hidden\""
   ]
  },
  {
   "cell_type": "code",
   "execution_count": 21,
   "metadata": {},
   "outputs": [],
   "source": [
    "def update_game( user_choice ):\n",
    "    user_history_len = len( user_history )\n",
    "    if(user_history_len > 0):\n",
    "        prob = sum( user_history ) / len( user_history )\n",
    "    else:\n",
    "        prob = 0.5\n",
    "    computer_choice = np.random.binomial(1, prob)\n",
    "    user_history.append( user_choice )\n",
    "    \n",
    "    if( computer_choice == user_choice):\n",
    "        bot_score.value += 1\n",
    "    else:\n",
    "        user_score.value += 1\n",
    "        \n",
    "    if( bot_score.value == 50 or user_score.value == 50 ):\n",
    "        if( bot_score.value == 50):\n",
    "            final_msg.value = \"<h1 style='color:red'> You Loose! </h1>\"\n",
    "        final_msg.layout.visibility = \"visible\"\n",
    "        \n",
    "        btn_zero.disabled = True\n",
    "        btn_one.disabled = True\n",
    "        \n",
    "    \n",
    "    return"
   ]
  },
  {
   "cell_type": "code",
   "execution_count": 16,
   "metadata": {},
   "outputs": [
    {
     "data": {
      "application/vnd.jupyter.widget-view+json": {
       "model_id": "c2e4d971b4044d9c86182727fe93aac6",
       "version_major": 2,
       "version_minor": 0
      },
      "text/plain": [
       "VBox(children=(HBox(children=(VBox(children=(IntProgress(value=0, bar_style='success', description='You:', max…"
      ]
     },
     "metadata": {},
     "output_type": "display_data"
    }
   ],
   "source": [
    "display (game_box)"
   ]
  },
  {
   "cell_type": "code",
   "execution_count": null,
   "metadata": {},
   "outputs": [],
   "source": []
  }
 ],
 "metadata": {
  "kernelspec": {
   "display_name": "Python 3",
   "language": "python",
   "name": "python3"
  },
  "language_info": {
   "codemirror_mode": {
    "name": "ipython",
    "version": 3
   },
   "file_extension": ".py",
   "mimetype": "text/x-python",
   "name": "python",
   "nbconvert_exporter": "python",
   "pygments_lexer": "ipython3",
   "version": "3.7.1"
  }
 },
 "nbformat": 4,
 "nbformat_minor": 2
}
